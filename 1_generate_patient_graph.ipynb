{
 "cells": [
  {
   "cell_type": "markdown",
   "metadata": {},
   "source": [
    "# PubMed Knowledge Graph"
   ]
  },
  {
   "cell_type": "markdown",
   "metadata": {},
   "source": [
    "This notebook is part of a series that walks through the process of generating a knowledge graph of PubMed articles.\n",
    "\n",
    "This notebook will\n",
    "* Load structured patient journey data into a Neo4j instance"
   ]
  },
  {
   "cell_type": "code",
   "execution_count": 1,
   "metadata": {},
   "outputs": [],
   "source": [
    "import os\n",
    "\n",
    "import pandas as pd\n",
    "from pyneoinstance import Neo4jInstance, load_yaml_file"
   ]
  },
  {
   "cell_type": "markdown",
   "metadata": {},
   "source": [
    "## PyNeoInstance"
   ]
  },
  {
   "cell_type": "markdown",
   "metadata": {},
   "source": [
    "Our database credentials and all of our queries are stored in the `pyneoinstance_config.yaml` file. \n",
    "\n",
    "This makes it easy to manage our queries and keeps the notebook code clean. "
   ]
  },
  {
   "cell_type": "code",
   "execution_count": 2,
   "metadata": {},
   "outputs": [],
   "source": [
    "config = load_yaml_file(\"pyneoinstance_config.yaml\")\n",
    "\n",
    "db_info = config['db_info']\n",
    "\n",
    "constraints = config['initializing_queries']['constraints']\n",
    "indexes = config['initializing_queries']['indexes']\n",
    "\n",
    "load_query = config['loading_queries']['patient_journey_graph']"
   ]
  },
  {
   "cell_type": "markdown",
   "metadata": {},
   "source": [
    "This graph object will handle database connections and read / write transactions for us."
   ]
  },
  {
   "cell_type": "code",
   "execution_count": 3,
   "metadata": {},
   "outputs": [],
   "source": [
    "graph = Neo4jInstance(db_info.get('uri', os.getenv(\"NEO4J_URI\", \"neo4j://localhost:7687\")), # use config value -> use env value -> use default value\n",
    "                      db_info.get('user', os.getenv(\"NEO4J_USER\", \"neo4j\")), \n",
    "                      db_info.get('password', os.getenv(\"NEO4J_PASSWORD\", \"password\")))"
   ]
  },
  {
   "cell_type": "markdown",
   "metadata": {},
   "source": [
    "This is a helper function for ingesting data using the PyNeoInstance library."
   ]
  },
  {
   "cell_type": "code",
   "execution_count": 4,
   "metadata": {},
   "outputs": [],
   "source": [
    "def get_partition(data: pd.DataFrame, batch_size: int = 500) -> int:\n",
    "    \"\"\"\n",
    "    Determine the data partition based on the desired batch size.\n",
    "\n",
    "    Parameters\n",
    "    ----------\n",
    "    data : pd.DataFrame\n",
    "        The Pandas DataFrame to partition.\n",
    "    batch_size : int\n",
    "        The desired batch size.\n",
    "\n",
    "    Returns\n",
    "    -------\n",
    "    int\n",
    "        The partition size.\n",
    "    \"\"\"\n",
    "    \n",
    "    partition = int(len(data) / batch_size)\n",
    "    print(\"partition: \"+str(partition if partition > 1 else 1))\n",
    "    return partition if partition > 1 else 1"
   ]
  },
  {
   "cell_type": "markdown",
   "metadata": {},
   "source": [
    "## Constraints + Indexes"
   ]
  },
  {
   "cell_type": "code",
   "execution_count": 5,
   "metadata": {},
   "outputs": [],
   "source": [
    "def create_constraints_and_indexes() -> None:\n",
    "    \"\"\"\n",
    "    Create constraints and indexes for the lexical and domain graphs.\n",
    "    \"\"\"\n",
    "    try:\n",
    "        if constraints and len(constraints) > 0:\n",
    "            graph.execute_write_queries(database=db_info['database'], queries=list(constraints.values()))\n",
    "    except Exception as e:\n",
    "        print(e)\n",
    "\n",
    "    try:\n",
    "        if indexes and len(indexes) > 0:\n",
    "            graph.execute_write_queries(database=db_info['database'], queries=list(indexes.values()))\n",
    "    except Exception as e:\n",
    "        print(e)"
   ]
  },
  {
   "cell_type": "code",
   "execution_count": 6,
   "metadata": {},
   "outputs": [],
   "source": [
    "create_constraints_and_indexes()"
   ]
  },
  {
   "cell_type": "markdown",
   "metadata": {},
   "source": [
    "## Load Data"
   ]
  },
  {
   "cell_type": "markdown",
   "metadata": {},
   "source": [
    "Our patient journey data will be loaded from a Pandas DataFrame."
   ]
  },
  {
   "cell_type": "code",
   "execution_count": 7,
   "metadata": {},
   "outputs": [],
   "source": [
    "def load_patient_journey_data(graph: Neo4jInstance, data: pd.DataFrame) -> None:\n",
    "    \"\"\"\n",
    "    Load patient journey data into the graph.\n",
    "    \"\"\"\n",
    "\n",
    "    print(f\"Loading {len(data)} patient journey rows\")\n",
    "    res = graph.execute_write_query_with_data(database=db_info['database'], \n",
    "                                            data=data, \n",
    "                                            query=load_query, \n",
    "                                            partitions=get_partition(data, batch_size=500),\n",
    "                                            parallel=False)\n",
    "    print(res)"
   ]
  },
  {
   "cell_type": "code",
   "execution_count": 8,
   "metadata": {},
   "outputs": [],
   "source": [
    "data = pd.read_csv(\"data/protocol/extended_patient_journey.csv\")"
   ]
  },
  {
   "cell_type": "code",
   "execution_count": 9,
   "metadata": {},
   "outputs": [
    {
     "data": {
      "text/html": [
       "<div>\n",
       "<style scoped>\n",
       "    .dataframe tbody tr th:only-of-type {\n",
       "        vertical-align: middle;\n",
       "    }\n",
       "\n",
       "    .dataframe tbody tr th {\n",
       "        vertical-align: top;\n",
       "    }\n",
       "\n",
       "    .dataframe thead th {\n",
       "        text-align: right;\n",
       "    }\n",
       "</style>\n",
       "<table border=\"1\" class=\"dataframe\">\n",
       "  <thead>\n",
       "    <tr style=\"text-align: right;\">\n",
       "      <th></th>\n",
       "      <th>member_id</th>\n",
       "      <th>age</th>\n",
       "      <th>sex</th>\n",
       "      <th>zip_code</th>\n",
       "      <th>protocol</th>\n",
       "      <th>diagnosis</th>\n",
       "      <th>diagnosis_code</th>\n",
       "      <th>procedure_code</th>\n",
       "      <th>procedure_name</th>\n",
       "      <th>medications</th>\n",
       "      <th>visit_date</th>\n",
       "      <th>lab_test</th>\n",
       "      <th>lab_loinc</th>\n",
       "      <th>lab_value</th>\n",
       "      <th>outcome</th>\n",
       "    </tr>\n",
       "  </thead>\n",
       "  <tbody>\n",
       "    <tr>\n",
       "      <th>0</th>\n",
       "      <td>P001</td>\n",
       "      <td>65</td>\n",
       "      <td>M</td>\n",
       "      <td>72652</td>\n",
       "      <td>Protocol_A</td>\n",
       "      <td>Hypertension</td>\n",
       "      <td>I10</td>\n",
       "      <td>83036</td>\n",
       "      <td>HbA1c Test</td>\n",
       "      <td>Metformin, GLP-1</td>\n",
       "      <td>2023-08-17</td>\n",
       "      <td>A1C</td>\n",
       "      <td>4548-4</td>\n",
       "      <td>6.7</td>\n",
       "      <td>A1C Controlled</td>\n",
       "    </tr>\n",
       "    <tr>\n",
       "      <th>1</th>\n",
       "      <td>P001</td>\n",
       "      <td>65</td>\n",
       "      <td>M</td>\n",
       "      <td>72652</td>\n",
       "      <td>Protocol_A</td>\n",
       "      <td>Hypertension</td>\n",
       "      <td>I10</td>\n",
       "      <td>83036</td>\n",
       "      <td>HbA1c Test</td>\n",
       "      <td>Metformin, GLP-1</td>\n",
       "      <td>2023-11-15</td>\n",
       "      <td>A1C</td>\n",
       "      <td>4548-4</td>\n",
       "      <td>8.2</td>\n",
       "      <td>A1C Not Controlled</td>\n",
       "    </tr>\n",
       "    <tr>\n",
       "      <th>2</th>\n",
       "      <td>P001</td>\n",
       "      <td>65</td>\n",
       "      <td>M</td>\n",
       "      <td>72652</td>\n",
       "      <td>Protocol_A</td>\n",
       "      <td>Hypertension</td>\n",
       "      <td>I10</td>\n",
       "      <td>83036</td>\n",
       "      <td>HbA1c Test</td>\n",
       "      <td>Metformin, GLP-1</td>\n",
       "      <td>2024-02-13</td>\n",
       "      <td>A1C</td>\n",
       "      <td>4548-4</td>\n",
       "      <td>8.0</td>\n",
       "      <td>A1C Not Controlled</td>\n",
       "    </tr>\n",
       "    <tr>\n",
       "      <th>3</th>\n",
       "      <td>P001</td>\n",
       "      <td>65</td>\n",
       "      <td>M</td>\n",
       "      <td>72652</td>\n",
       "      <td>Protocol_A</td>\n",
       "      <td>Hypertension</td>\n",
       "      <td>I10</td>\n",
       "      <td>83036</td>\n",
       "      <td>HbA1c Test</td>\n",
       "      <td>Metformin, GLP-1</td>\n",
       "      <td>2024-05-13</td>\n",
       "      <td>A1C</td>\n",
       "      <td>4548-4</td>\n",
       "      <td>8.7</td>\n",
       "      <td>A1C Not Controlled</td>\n",
       "    </tr>\n",
       "    <tr>\n",
       "      <th>4</th>\n",
       "      <td>P002</td>\n",
       "      <td>47</td>\n",
       "      <td>F</td>\n",
       "      <td>25666</td>\n",
       "      <td>Protocol_A</td>\n",
       "      <td>Type 2 Diabetes</td>\n",
       "      <td>E11.9</td>\n",
       "      <td>83036</td>\n",
       "      <td>HbA1c Test</td>\n",
       "      <td>Metformin, GLP-1</td>\n",
       "      <td>2024-02-13</td>\n",
       "      <td>A1C</td>\n",
       "      <td>4548-4</td>\n",
       "      <td>6.7</td>\n",
       "      <td>A1C Controlled</td>\n",
       "    </tr>\n",
       "  </tbody>\n",
       "</table>\n",
       "</div>"
      ],
      "text/plain": [
       "  member_id  age sex  zip_code    protocol        diagnosis diagnosis_code  \\\n",
       "0      P001   65   M     72652  Protocol_A     Hypertension            I10   \n",
       "1      P001   65   M     72652  Protocol_A     Hypertension            I10   \n",
       "2      P001   65   M     72652  Protocol_A     Hypertension            I10   \n",
       "3      P001   65   M     72652  Protocol_A     Hypertension            I10   \n",
       "4      P002   47   F     25666  Protocol_A  Type 2 Diabetes          E11.9   \n",
       "\n",
       "   procedure_code procedure_name       medications  visit_date lab_test  \\\n",
       "0           83036     HbA1c Test  Metformin, GLP-1  2023-08-17      A1C   \n",
       "1           83036     HbA1c Test  Metformin, GLP-1  2023-11-15      A1C   \n",
       "2           83036     HbA1c Test  Metformin, GLP-1  2024-02-13      A1C   \n",
       "3           83036     HbA1c Test  Metformin, GLP-1  2024-05-13      A1C   \n",
       "4           83036     HbA1c Test  Metformin, GLP-1  2024-02-13      A1C   \n",
       "\n",
       "  lab_loinc  lab_value             outcome  \n",
       "0    4548-4        6.7      A1C Controlled  \n",
       "1    4548-4        8.2  A1C Not Controlled  \n",
       "2    4548-4        8.0  A1C Not Controlled  \n",
       "3    4548-4        8.7  A1C Not Controlled  \n",
       "4    4548-4        6.7      A1C Controlled  "
      ]
     },
     "execution_count": 9,
     "metadata": {},
     "output_type": "execute_result"
    }
   ],
   "source": [
    "data.head()"
   ]
  },
  {
   "cell_type": "markdown",
   "metadata": {},
   "source": [
    "And now we load our patient journey data"
   ]
  },
  {
   "cell_type": "code",
   "execution_count": 10,
   "metadata": {},
   "outputs": [
    {
     "name": "stdout",
     "output_type": "stream",
     "text": [
      "Loading 221 patient journey rows\n",
      "partition: 1\n",
      "{'labels_added': 139, 'relationships_created': 863, 'nodes_created': 139, 'properties_set': 938}\n"
     ]
    }
   ],
   "source": [
    "load_patient_journey_data(graph, data)"
   ]
  },
  {
   "cell_type": "code",
   "execution_count": null,
   "metadata": {},
   "outputs": [],
   "source": []
  }
 ],
 "metadata": {
  "kernelspec": {
   "display_name": ".venv",
   "language": "python",
   "name": "python3"
  },
  "language_info": {
   "codemirror_mode": {
    "name": "ipython",
    "version": 3
   },
   "file_extension": ".py",
   "mimetype": "text/x-python",
   "name": "python",
   "nbconvert_exporter": "python",
   "pygments_lexer": "ipython3",
   "version": "3.11.3"
  }
 },
 "nbformat": 4,
 "nbformat_minor": 2
}
